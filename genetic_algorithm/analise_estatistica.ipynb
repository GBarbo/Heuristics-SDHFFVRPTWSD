{
 "cells": [
  {
   "cell_type": "markdown",
   "metadata": {},
   "source": [
    "TESTE DE NORMALIDADE"
   ]
  },
  {
   "cell_type": "code",
   "execution_count": 50,
   "metadata": {},
   "outputs": [],
   "source": [
    "import pandas as pd\n",
    "\n",
    "#df = pd.read_csv('resultados_hi-cw-ag.csv')\n",
    "\n",
    "df = pd.read_csv('resultados.csv')\n"
   ]
  },
  {
   "cell_type": "code",
   "execution_count": 51,
   "metadata": {},
   "outputs": [],
   "source": [
    "# Custos\n",
    "custo_hi = df['HI']\n",
    "custo_cw = df['CW']\n",
    "custo_ag = df['AG']"
   ]
  },
  {
   "cell_type": "code",
   "execution_count": 52,
   "metadata": {},
   "outputs": [],
   "source": [
    "from scipy.stats import kstest"
   ]
  },
  {
   "cell_type": "code",
   "execution_count": 53,
   "metadata": {},
   "outputs": [
    {
     "name": "stdout",
     "output_type": "stream",
     "text": [
      "Heurística de Inserção = 0.1529196065562295, p-valor = 0.40222378915030144\n",
      "Clarke-Wright: estatística = 0.07207941592267103, p-valor = 0.9920656034166687\n",
      "Algoritmo Genético = 0.11924891671058757, p-valor = 0.7087395680265384\n"
     ]
    }
   ],
   "source": [
    "# Define the normal distribution parameters (mean and std of the data)\n",
    "mean1, std1 = custo_hi.mean(), custo_hi.std()\n",
    "mean2, std2 = custo_cw.mean(), custo_cw.std()\n",
    "mean3, std3 = custo_ag.mean(), custo_ag.std()\n",
    "\n",
    "# Kolmogorov-Smirnov Test for Normality\n",
    "ks1 = kstest(custo_hi, 'norm', args=(mean1, std1))\n",
    "ks2 = kstest(custo_cw, 'norm', args=(mean2, std2))\n",
    "ks3 = kstest(custo_ag, 'norm', args=(mean3, std3))\n",
    "\n",
    "print(f\"Heurística de Inserção = {ks1.statistic}, p-valor = {ks1.pvalue}\")\n",
    "print(f\"Clarke-Wright: estatística = {ks2.statistic}, p-valor = {ks2.pvalue}\")\n",
    "print(f\"Algoritmo Genético = {ks3.statistic}, p-valor = {ks3.pvalue}\")"
   ]
  },
  {
   "cell_type": "markdown",
   "metadata": {},
   "source": [
    "ANOVA"
   ]
  },
  {
   "cell_type": "code",
   "execution_count": 54,
   "metadata": {},
   "outputs": [],
   "source": [
    "from scipy.stats import f_oneway"
   ]
  },
  {
   "cell_type": "code",
   "execution_count": 56,
   "metadata": {},
   "outputs": [
    {
     "name": "stdout",
     "output_type": "stream",
     "text": [
      "ANOVA: estatística=0.8790816808439843, p-valor=0.4185849454534917\n"
     ]
    }
   ],
   "source": [
    "# ANOVA\n",
    "stat, p = f_oneway(custo_hi, custo_cw, custo_ag)\n",
    "print(f\"ANOVA: estatística={stat}, p-valor={p}\")"
   ]
  }
 ],
 "metadata": {
  "kernelspec": {
   "display_name": "Python 3",
   "language": "python",
   "name": "python3"
  },
  "language_info": {
   "codemirror_mode": {
    "name": "ipython",
    "version": 3
   },
   "file_extension": ".py",
   "mimetype": "text/x-python",
   "name": "python",
   "nbconvert_exporter": "python",
   "pygments_lexer": "ipython3",
   "version": "3.12.5"
  }
 },
 "nbformat": 4,
 "nbformat_minor": 2
}
